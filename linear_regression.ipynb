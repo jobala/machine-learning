p{
 "cells": [
  {
   "cell_type": "markdown",
   "metadata": {
    "pycharm": {
     "name": "#%% md\n"
    }
   },
   "source": [
    "## Linear Regression\n",
    "\n",
    "Linear regression is a simple approach for supervised learning. We are going to use\n",
    "linear regression to predict the price of a house given it's size and the number\n",
    "of bedrooms it has.\n"
   ]
  },
  {
   "cell_type": "code",
   "execution_count": 43,
   "metadata": {
    "pycharm": {
     "name": "#%%\n"
    }
   },
   "outputs": [
    {
     "data": {
      "text/plain": "   area  price\n0     0      0\n1     1      1\n2     2      2\n3     3      3\n4     4      4",
      "text/html": "<div>\n<style scoped>\n    .dataframe tbody tr th:only-of-type {\n        vertical-align: middle;\n    }\n\n    .dataframe tbody tr th {\n        vertical-align: top;\n    }\n\n    .dataframe thead th {\n        text-align: right;\n    }\n</style>\n<table border=\"1\" class=\"dataframe\">\n  <thead>\n    <tr style=\"text-align: right;\">\n      <th></th>\n      <th>area</th>\n      <th>price</th>\n    </tr>\n  </thead>\n  <tbody>\n    <tr>\n      <th>0</th>\n      <td>0</td>\n      <td>0</td>\n    </tr>\n    <tr>\n      <th>1</th>\n      <td>1</td>\n      <td>1</td>\n    </tr>\n    <tr>\n      <th>2</th>\n      <td>2</td>\n      <td>2</td>\n    </tr>\n    <tr>\n      <th>3</th>\n      <td>3</td>\n      <td>3</td>\n    </tr>\n    <tr>\n      <th>4</th>\n      <td>4</td>\n      <td>4</td>\n    </tr>\n  </tbody>\n</table>\n</div>"
     },
     "execution_count": 43,
     "metadata": {},
     "output_type": "execute_result"
    }
   ],
   "source": [
    "import numpy as np\n",
    "import pandas as pd\n",
    "from ipywidgets import *\n",
    "import matplotlib.pyplot as graph\n",
    "\n",
    "df = pd.read_csv('houses.csv')\n",
    "df"
   ]
  },
  {
   "cell_type": "markdown",
   "metadata": {
    "pycharm": {
     "name": "#%% md\n"
    }
   },
   "source": [
    "The above dataset will be our training set. **size** is the input variable. Input variables also referred to as\n",
    "features, predictors or independent variables. **price** is our output or target\n",
    "variable.\n",
    "\n",
    "The essence of machine learning is to find a model that **maps** input variables to target variables.\n",
    "Let $X$ denote the input variable space and $Y$ denote the output variable spaces, then the point of\n",
    "machine learning is to find a function $h:X \\mapsto Y$ such that $h(x)$ is a good predictor\n",
    "for the corresponding value of y. This function $h$ is called a **hypothesis**\n"
   ]
  },
  {
   "cell_type": "markdown",
   "metadata": {
    "pycharm": {
     "name": "#%% md\n"
    }
   },
   "source": [
    "Plotting our training set"
   ]
  },
  {
   "cell_type": "code",
   "execution_count": 44,
   "metadata": {
    "pycharm": {
     "name": "#%%\n"
    }
   },
   "outputs": [
    {
     "data": {
      "text/plain": "<matplotlib.collections.PathCollection at 0x2369089b220>"
     },
     "execution_count": 44,
     "metadata": {},
     "output_type": "execute_result"
    },
    {
     "data": {
      "text/plain": "<Figure size 432x288 with 1 Axes>",
      "image/png": "[encoded data removed]"
     },
     "metadata": {
      "needs_background": "light"
     },
     "output_type": "display_data"
    }
   ],
   "source": [
    "%matplotlib inline\n",
    "graph.scatter(df.area, df.price)"
   ]
  },
  {
   "cell_type": "markdown",
   "metadata": {
    "pycharm": {
     "name": "#%% md\n"
    }
   },
   "source": [
    "In this case, we can approximate $h$ as a linear function which means that it is a\n",
    "straight line when plotted.\n",
    "\n",
    "For purposes of simplicity let's define $h(x)$  as $h(x) = \\theta x_1$\n",
    "\n",
    "$\\theta$ parameterizes $h$. The task now is to find $\\theta$ such that we get a prediction value\n",
    "closest to the real price value.\n",
    "\n",
    "We can express the hypothesis function in Python as below"
   ]
  },
  {
   "cell_type": "code",
   "execution_count": 45,
   "metadata": {
    "pycharm": {
     "name": "#%%\n"
    }
   },
   "outputs": [],
   "source": [
    "def hypothesis(theta, x):\n",
    "    return theta * x\n"
   ]
  },
  {
   "cell_type": "markdown",
   "metadata": {
    "pycharm": {
     "name": "#%% md\n"
    }
   },
   "source": [
    "## Cost Function\n",
    "The **cost function** measures how close our prediction is to the real value. It is defined as\n",
    "\n",
    "$J(\\theta)=\\frac{1}{2m}\\sum(h(x_i)-y_i)^2$ where $h(x_i)$ is the prediction for the ith entry in our training set.\n",
    "\n",
    "Writing the cost function in Python"
   ]
  },
  {
   "cell_type": "code",
   "execution_count": 46,
   "metadata": {
    "pycharm": {
     "name": "#%%\n"
    }
   },
   "outputs": [],
   "source": [
    "def cost_function(theta, training_data):\n",
    "    result = 0\n",
    "    for index, training_set in training_data.iterrows():\n",
    "        predicted = hypothesis(theta, training_set['area'])\n",
    "        square_diff = (predicted - training_set['price']) ** 2\n",
    "        result = square_diff / (2 * len(training_data.index))\n",
    "    return result\n"
   ]
  },
  {
   "cell_type": "markdown",
   "metadata": {
    "pycharm": {
     "name": "#%% md\n"
    }
   },
   "source": [
    "In this case a $\\theta$ value of 1, means that our prediction is exactly the same as the real\n",
    "value, therefore, the mean squared difference between our predicted and real values should be 0.\n",
    "In the snippet below, we see that the further we move from 1, the less accurate our prediction becomes."
   ]
  },
  {
   "cell_type": "code",
   "execution_count": 47,
   "metadata": {
    "pycharm": {
     "name": "#%%\n"
    },
    "tags": []
   },
   "outputs": [
    {
     "name": "stdout",
     "output_type": "stream",
     "text": [
      "theta=1: result= 0.0\n",
      "theta=1.5: result= 0.4\n",
      "theta=2: result= 1.6\n"
     ]
    }
   ],
   "source": [
    "print('theta=1: result=', cost_function(1, df))\n",
    "print('theta=1.5: result=', cost_function(1.5, df))\n",
    "print('theta=2: result=', cost_function(2, df))"
   ]
  },
  {
   "cell_type": "markdown",
   "metadata": {
    "pycharm": {
     "name": "#%% md\n"
    }
   },
   "source": [
    "## Visualising Hypothesis and Cost Function"
   ]
  },
  {
   "cell_type": "code",
   "execution_count": 48,
   "metadata": {
    "pycharm": {
     "name": "#%%\n"
    }
   },
   "outputs": [
    {
     "data": {
      "text/plain": "interactive(children=(FloatSlider(value=1.0, description='theta', max=3.0, min=-1.0), Output()), _dom_classes=…",
      "application/vnd.jupyter.widget-view+json": {
       "version_major": 2,
       "version_minor": 0,
       "model_id": "e6b24b31b3ea469fb9df9ebaf2ff9a29"
      }
     },
     "metadata": {},
     "output_type": "display_data"
    },
    {
     "data": {
      "text/plain": "<function __main__.update(theta=1.0)>"
     },
     "execution_count": 48,
     "metadata": {},
     "output_type": "execute_result"
    }
   ],
   "source": [
    "def update(theta = 1.0):\n",
    "    x1 = np.linspace(0.0, 5.0)\n",
    "    y1 = np.linspace(0.0, 5.0)\n",
    "\n",
    "    x2 = np.linspace(-0.5, 2.5)\n",
    "    y2 = [cost_function(x, training_data=df) for x in x2]\n",
    "\n",
    "    fig, axes = graph.subplots(nrows=1, ncols=2, figsize=(5, 3))\n",
    "\n",
    "    axes[0].scatter(df.area, df.price)\n",
    "    axes[1].plot(x2, y2)\n",
    "    fig.tight_layout()\n",
    "\n",
    "    axes[0].plot(df.area, theta*df.price, color='red', label='prediction')\n",
    "    axes[0].legend(loc='upper left')\n",
    "\n",
    "    axes[1].scatter(theta, cost_function(theta, df), label='cost')\n",
    "    axes[1].legend(loc='upper left')\n",
    "\n",
    "interact(update)"
   ]
  },
  {
   "cell_type": "markdown",
   "metadata": {
    "pycharm": {
     "name": "#%% md\n"
    }
   },
   "source": [
    "In the diagram above, we can see how the accuracy of our prediction changes with respect to a change in the cost. Our prediction is equal to the real values when cost 1.\n",
    "\n",
    "## Parameter Learning"
   ]
  },
  {
   "cell_type": "code",
   "execution_count": null,
   "outputs": [],
   "source": [],
   "metadata": {
    "collapsed": false,
    "pycharm": {
     "name": "#%%\n"
    }
   }
  }
 ],
 "metadata": {
  "kernelspec": {
   "display_name": "Python 3.8.5 64-bit ('experiments': pipenv)",
   "language": "python",
   "name": "python_defaultSpec_1599055194649"
  },
  "language_info": {
   "codemirror_mode": {
    "name": "ipython",
    "version": 3
   },
   "file_extension": ".py",
   "mimetype": "text/x-python",
   "name": "python",
   "nbconvert_exporter": "python",
   "pygments_lexer": "ipython3",
   "version": "3.8.5-final"
  }
 },
 "nbformat": 4,
 "nbformat_minor": 1
}