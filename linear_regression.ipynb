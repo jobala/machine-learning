{
 "cells": [
  {
   "cell_type": "markdown",
   "source": [
    "## Linear Regression\n",
    "\n",
    "Linear regression is a simple approach for supervised learning. We are going to use\n",
    "linear regression to predict the price of a house given it's size and the number\n",
    "of bedrooms it has.\n"
   ],
   "metadata": {
    "collapsed": false,
    "pycharm": {
     "name": "#%% md\n"
    }
   }
  },
  {
   "cell_type": "code",
   "execution_count": 18,
   "metadata": {
    "collapsed": true,
    "pycharm": {
     "name": "#%%\n"
    }
   },
   "outputs": [
    {
     "output_type": "execute_result",
     "data": {
      "text/plain": "   area  price\n0     0      0\n1     1      1\n2     2      2\n3     3      3\n4     4      4",
      "text/html": "<div>\n<style scoped>\n    .dataframe tbody tr th:only-of-type {\n        vertical-align: middle;\n    }\n\n    .dataframe tbody tr th {\n        vertical-align: top;\n    }\n\n    .dataframe thead th {\n        text-align: right;\n    }\n</style>\n<table border=\"1\" class=\"dataframe\">\n  <thead>\n    <tr style=\"text-align: right;\">\n      <th></th>\n      <th>area</th>\n      <th>price</th>\n    </tr>\n  </thead>\n  <tbody>\n    <tr>\n      <th>0</th>\n      <td>0</td>\n      <td>0</td>\n    </tr>\n    <tr>\n      <th>1</th>\n      <td>1</td>\n      <td>1</td>\n    </tr>\n    <tr>\n      <th>2</th>\n      <td>2</td>\n      <td>2</td>\n    </tr>\n    <tr>\n      <th>3</th>\n      <td>3</td>\n      <td>3</td>\n    </tr>\n    <tr>\n      <th>4</th>\n      <td>4</td>\n      <td>4</td>\n    </tr>\n  </tbody>\n</table>\n</div>"
     },
     "metadata": {},
     "execution_count": 18
    }
   ],
   "source": [
    "import numpy as np\n",
    "import pandas as pd\n",
    "from ipywidgets import *\n",
    "import matplotlib.pyplot as graph\n",
    "\n",
    "df = pd.read_csv('houses.csv')\n",
    "df"
   ]
  },
  {
   "cell_type": "markdown",
   "source": [
    "The above dataset will be our training set. **size** is the input variable. Input variables also referred to as\n",
    "features, predictors or independent variables. **price** is our output or target\n",
    "variable.\n",
    "\n",
    "The essence of machine learning is to find a model that **maps** input variables to target variables.\n",
    "Let $X$ denote the input variable space and $Y$ denote the output variable spaces, then the point of\n",
    "machine learning is to find a function $h:X \\mapsto Y$ such that $h(x)$ is a good predictor\n",
    "for the corresponding value of y. This function $h$ is called a **hypothesis**\n"
   ],
   "metadata": {
    "collapsed": false,
    "pycharm": {
     "name": "#%% md\n"
    }
   }
  },
  {
   "cell_type": "markdown",
   "source": [
    "Plotting our training set"
   ],
   "metadata": {
    "collapsed": false,
    "pycharm": {
     "name": "#%% md\n"
    }
   }
  },
  {
   "cell_type": "code",
   "execution_count": 19,
   "outputs": [
    {
     "output_type": "display_data",
     "data": {
      "text/plain": "Canvas(toolbar=Toolbar(toolitems=[('Home', 'Reset original view', 'home', 'home'), ('Back', 'Back to previous …",
      "application/vnd.jupyter.widget-view+json": {
       "version_major": 2,
       "version_minor": 0,
       "model_id": "e573913d24c74b759064b64a08d0f7de"
      }
     },
     "metadata": {}
    },
    {
     "output_type": "execute_result",
     "data": {
      "text/plain": "<matplotlib.collections.PathCollection at 0x1959e161520>"
     },
     "metadata": {},
     "execution_count": 19
    }
   ],
   "source": [
    "%matplotlib widget\n",
    "graph.scatter(df.area, df.price)"
   ],
   "metadata": {
    "collapsed": false,
    "pycharm": {
     "name": "#%%\n"
    }
   }
  },
  {
   "cell_type": "markdown",
   "source": [
    "In this case, we can approximate $h$ as a linear function which means that it is a\n",
    "straight line when plotted.\n",
    "\n",
    "For purposes of simplicity let's define $h(x)$  as $h(x) = \\theta x_1$\n",
    "\n",
    "$\\theta$ parameterizes $h$. The task now is to find $\\theta$ such that we get a prediction value\n",
    "closest to the real price value.\n",
    "\n",
    "We can express the hypothesis function in Python as below"
   ],
   "metadata": {
    "collapsed": false,
    "pycharm": {
     "name": "#%% md\n"
    }
   }
  },
  {
   "cell_type": "code",
   "execution_count": 20,
   "outputs": [],
   "source": [
    "def hypothesis(theta, x):\n",
    "    return theta * x\n"
   ],
   "metadata": {
    "collapsed": false,
    "pycharm": {
     "name": "#%%\n"
    }
   }
  },
  {
   "cell_type": "markdown",
   "metadata": {
    "collapsed": false,
    "pycharm": {
     "name": "#%% md\n"
    }
   },
   "source": [
    "## Cost Function\n",
    "The **cost function** measures how close our prediction is to the real value. It is defined as\n",
    "\n",
    "$J(\\theta)=\\frac{1}{2m}\\sum(h(x_i)-y_i)^2$ where $h(x_i)$ is the prediction for the ith entry in our training set.\n",
    "\n",
    "Writing the cost function in Python"
   ]
  },
  {
   "cell_type": "code",
   "execution_count": 21,
   "outputs": [],
   "source": [
    "def cost_function(theta, training_data):\n",
    "    result = 0\n",
    "    for index, training_set in training_data.iterrows():\n",
    "        predicted = hypothesis(theta, training_set['area'])\n",
    "        square_diff = (predicted - training_set['price']) ** 2\n",
    "        result = square_diff / (2 * len(training_data.index))\n",
    "    return result\n"
   ],
   "metadata": {
    "collapsed": false,
    "pycharm": {
     "name": "#%%\n"
    }
   }
  },
  {
   "cell_type": "markdown",
   "source": [
    "In this case a $\\theta$ value of 1, means that our prediction is exactly the same as the real\n",
    "value, therefore, the mean squared difference between our predicted and real values should be 0.\n",
    "In the snippet below, we see that the further we move from 1, the less accurate our prediction becomes."
   ],
   "metadata": {
    "collapsed": false,
    "pycharm": {
     "name": "#%% md\n"
    }
   }
  },
  {
   "cell_type": "code",
   "execution_count": 22,
   "outputs": [
    {
     "output_type": "stream",
     "name": "stdout",
     "text": "theta=1: result= 0.0\ntheta=1.5: result= 0.4\ntheta=2: result= 1.6\n"
    }
   ],
   "source": [
    "print('theta=1: result=', cost_function(1, df))\n",
    "print('theta=1.5: result=', cost_function(1.5, df))\n",
    "print('theta=2: result=', cost_function(2, df))"
   ],
   "metadata": {
    "collapsed": false,
    "pycharm": {
     "name": "#%%\n"
    },
    "tags": []
   }
  },
  {
   "cell_type": "markdown",
   "source": [
    "## Visualising Hypothesis and Cost Function"
   ],
   "metadata": {
    "collapsed": false,
    "pycharm": {
     "name": "#%% md\n"
    }
   }
  },
  {
   "cell_type": "code",
   "execution_count": 35,
   "outputs": [
    {
     "output_type": "display_data",
     "data": {
      "text/plain": "interactive(children=(FloatSlider(value=1.0, description='theta', max=3.0, min=-1.0), Output()), _dom_classes=…",
      "application/vnd.jupyter.widget-view+json": {
       "version_major": 2,
       "version_minor": 0,
       "model_id": "5623d26e05bb458e873c8b5f91cdd33b"
      }
     },
     "metadata": {}
    },
    {
     "output_type": "execute_result",
     "data": {
      "text/plain": "<function __main__.update(theta=1.0)>"
     },
     "metadata": {},
     "execution_count": 35
    }
   ],
   "source": [
    "x1 = np.linspace(0.0, 5.0)\n",
    "y1 = np.linspace(0.0, 5.0)\n",
    "\n",
    "x2 = np.linspace(-0.5, 2.5)\n",
    "y2 = [cost_function(x, training_data=df) for x in x2]\n",
    "\n",
    "fig, axes = graph.subplots(nrows=1, ncols=2, figsize=(5, 3))\n",
    "axes[0].scatter(df.area, df.price)\n",
    "axes[1].plot(x2, y2)\n",
    "fig.tight_layout()\n",
    "\n",
    "def update(theta = 1.0):\n",
    "    axes[0].plot(df.area, theta*df.price, color='red')\n",
    "    axes[1].scatter(theta, cost_function(theta, df))\n",
    "    axes[0].figure.canvas.show()\n",
    "\n",
    "interact(update)"
   ],
   "metadata": {
    "collapsed": false,
    "pycharm": {
     "name": "#%%\n"
    }
   }
  },
  {
   "cell_type": "code",
   "execution_count": null,
   "metadata": {},
   "outputs": [],
   "source": []
  }
 ],
 "metadata": {
  "kernelspec": {
   "display_name": "Python 3.8.5 64-bit ('experiments': pipenv)",
   "language": "python",
   "name": "python_defaultSpec_1599027515054"
  },
  "language_info": {
   "codemirror_mode": {
    "name": "ipython",
    "version": 2
   },
   "file_extension": ".py",
   "mimetype": "text/x-python",
   "name": "python",
   "nbconvert_exporter": "python",
   "pygments_lexer": "ipython2",
   "version": "3.8.5-final"
  }
 },
 "nbformat": 4,
 "nbformat_minor": 0
}