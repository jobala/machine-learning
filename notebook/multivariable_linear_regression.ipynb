{
 "metadata": {
  "language_info": {
   "codemirror_mode": {
    "name": "ipython",
    "version": 3
   },
   "file_extension": ".py",
   "mimetype": "text/x-python",
   "name": "python",
   "nbconvert_exporter": "python",
   "pygments_lexer": "ipython3",
   "version": "3.8.5-final"
  },
  "orig_nbformat": 2,
  "kernelspec": {
   "name": "python_defaultSpec_1599407339615",
   "display_name": "Python 3.8.5 64-bit ('experiments': pipenv)"
  }
 },
 "nbformat": 4,
 "nbformat_minor": 2,
 "cells": [
  {
   "cell_type": "markdown",
   "metadata": {},
   "source": [
    "## Multivariable Linear Regression\n",
    "\n",
    "In this tutorial, we implement linear regression for multiple parameters. "
   ]
  },
  {
   "cell_type": "code",
   "execution_count": 9,
   "metadata": {
    "tags": []
   },
   "outputs": [
    {
     "output_type": "execute_result",
     "data": {
      "text/plain": "   area  rooms   price\n0  2104      3  399900\n1  1600      3  329900\n2  2400      3  369000\n3  1416      2  232000\n4  3000      4  539900",
      "text/html": "<div>\n<style scoped>\n    .dataframe tbody tr th:only-of-type {\n        vertical-align: middle;\n    }\n\n    .dataframe tbody tr th {\n        vertical-align: top;\n    }\n\n    .dataframe thead th {\n        text-align: right;\n    }\n</style>\n<table border=\"1\" class=\"dataframe\">\n  <thead>\n    <tr style=\"text-align: right;\">\n      <th></th>\n      <th>area</th>\n      <th>rooms</th>\n      <th>price</th>\n    </tr>\n  </thead>\n  <tbody>\n    <tr>\n      <th>0</th>\n      <td>2104</td>\n      <td>3</td>\n      <td>399900</td>\n    </tr>\n    <tr>\n      <th>1</th>\n      <td>1600</td>\n      <td>3</td>\n      <td>329900</td>\n    </tr>\n    <tr>\n      <th>2</th>\n      <td>2400</td>\n      <td>3</td>\n      <td>369000</td>\n    </tr>\n    <tr>\n      <th>3</th>\n      <td>1416</td>\n      <td>2</td>\n      <td>232000</td>\n    </tr>\n    <tr>\n      <th>4</th>\n      <td>3000</td>\n      <td>4</td>\n      <td>539900</td>\n    </tr>\n  </tbody>\n</table>\n</div>"
     },
     "metadata": {},
     "execution_count": 9
    }
   ],
   "source": [
    "import numpy as np\n",
    "import pandas as pd\n",
    "from ipywidgets import *\n",
    "import matplotlib.pyplot as plt\n",
    "\n",
    "df = pd.read_csv('../data/house_prices_2.csv')\n",
    "\n",
    "training_data = df.head() \n",
    "training_data"
   ]
  },
  {
   "cell_type": "markdown",
   "metadata": {},
   "source": [
    "## Feature Scaling\n",
    "\n",
    "Before using the training data, we should make it easy to work with. The values for area, rooms and price are spread over different ranges and as a consequence gradient descent will need to run for longer, over many iterations before finding the optimal values for parameters $\\theta$. We can have the data spread out over approximately the same range by  **scaling and normalizing** the input variables.\n",
    "\n",
    "#### Feature Scaling And Mean Normalization\n",
    "Feature scaling involves dividing the input variable with the range -- difference between max and min values or the standard deviation and mean normalization involves substracting the mean from the input variable.\n",
    "\n",
    "The formula below scales and normalizes features.\n",
    "\n",
    "$x_i = \\frac{x_i - \\mu_i}{\\sigma_i}$ where $\\mu_i$ is the mean for the ith feature and $\\sigma_i$ is the range or standard deviation for the ith feature. In this tutorial, we'll use standard deviation instead of range for $\\sigma_i$\n",
    "\n",
    "**Example**\n",
    "Scale and normalize area's first entry\n",
    "\n",
    "$\\mu_i = 2104$\n",
    "\n",
    "$\\sigma_i = 568.82$\n",
    "\n",
    "norm_area $= \\frac{2104 - 2104}{568.83}$\n",
    "\n",
    "Therefore, norm_area $=$ 0\n",
    "\n",
    "The snippet below implements the formula in Python\n"
   ]
  },
  {
   "cell_type": "code",
   "execution_count": 16,
   "metadata": {},
   "outputs": [],
   "source": [
    "def normalize(input_variables):\n",
    "    result = None\n",
    "\n",
    "    mean = np.mean(input_variables)\n",
    "    std = np.std(input_variables)\n",
    "\n",
    "    result = (input_variables - mean) / std\n",
    "    return result"
   ]
  },
  {
   "cell_type": "markdown",
   "metadata": {},
   "source": [
    "Now we can normalize our input variables, area and rooms"
   ]
  },
  {
   "cell_type": "code",
   "execution_count": 25,
   "metadata": {},
   "outputs": [
    {
     "output_type": "execute_result",
     "data": {
      "text/plain": "   area  rooms   price\n0   NaN      3  399900\n1   NaN      3  329900\n2   NaN      3  369000\n3   NaN      2  232000\n4   NaN      4  539900",
      "text/html": "<div>\n<style scoped>\n    .dataframe tbody tr th:only-of-type {\n        vertical-align: middle;\n    }\n\n    .dataframe tbody tr th {\n        vertical-align: top;\n    }\n\n    .dataframe thead th {\n        text-align: right;\n    }\n</style>\n<table border=\"1\" class=\"dataframe\">\n  <thead>\n    <tr style=\"text-align: right;\">\n      <th></th>\n      <th>area</th>\n      <th>rooms</th>\n      <th>price</th>\n    </tr>\n  </thead>\n  <tbody>\n    <tr>\n      <th>0</th>\n      <td>NaN</td>\n      <td>3</td>\n      <td>399900</td>\n    </tr>\n    <tr>\n      <th>1</th>\n      <td>NaN</td>\n      <td>3</td>\n      <td>329900</td>\n    </tr>\n    <tr>\n      <th>2</th>\n      <td>NaN</td>\n      <td>3</td>\n      <td>369000</td>\n    </tr>\n    <tr>\n      <th>3</th>\n      <td>NaN</td>\n      <td>2</td>\n      <td>232000</td>\n    </tr>\n    <tr>\n      <th>4</th>\n      <td>NaN</td>\n      <td>4</td>\n      <td>539900</td>\n    </tr>\n  </tbody>\n</table>\n</div>"
     },
     "metadata": {},
     "execution_count": 25
    }
   ],
   "source": [
    "\n",
    "training_data['area'] = training_data['area'].apply(lambda x: normalize(x))\n",
    "training_data"
   ]
  }
 ]
}